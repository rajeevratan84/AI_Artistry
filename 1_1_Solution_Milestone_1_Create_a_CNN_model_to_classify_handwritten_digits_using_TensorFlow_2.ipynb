{
  "nbformat": 4,
  "nbformat_minor": 0,
  "metadata": {
    "colab": {
      "name": "1_1_Solution_Milestone_1_Create_a_CNN_model_to_classify_handwritten_digits_using_TensorFlow_2.ipynb",
      "provenance": [],
      "collapsed_sections": []
    },
    "kernelspec": {
      "name": "python3",
      "display_name": "Python 3"
    },
    "accelerator": "GPU"
  },
  "cells": [
    {
      "cell_type": "markdown",
      "metadata": {
        "id": "48Jb_J3-OaDW",
        "colab_type": "text"
      },
      "source": [
        "# Training a Simple Image Classifier using Convolutional Neural Networks \n",
        "\n",
        "## Identifying Handwritten Digits (MNIST)\n",
        "\n",
        "__Objective__: Create a CNN (Convolutional Neural Network) model. Use this model to classify handwritten digits.\n",
        "\n",
        "__Workflow__:\n",
        "1.  Load in the `MNIST` dataset and examine its structure.\n",
        "    - Use any library to load the MNIST dataset (included with both TensorFlow and PyTorch modules).\n",
        "    - Take a closer look at the data inspecting it's size, shape, and quantity.\n",
        "    - View some random samples using either OpenCV or Matplotlib (or others) of the handwritten digits and observe the complexity of the images. Do you have any issues identify these written numbers?\n",
        "2.  2.  Using `numpy` or other libraries prepare your dataset for training.\n",
        "    - Ensure the format or shape of the data is appropriate for input into your model (one-hot-encoding is needed for the labels)\n",
        "    - Ensure data types are correct and that data is normalized. \n",
        "3.  Create a CNN with these specifications:\n",
        "    - Input Dimensions of 28 x 28 x 1 \n",
        "    - Two Convolution Layers (Kernel Size 3x3). The first with 64 filters, the second with 32. Use `ReLU` as the activation layer.\n",
        "    - Max Pooling of size 2 x 2\n",
        "    - Dropout Rate of 0.25\n",
        "    - Add a Dense Layer comprising of 128 outputs\n",
        "    - Add another Dropout Layer using a rate setting of 0.5\n",
        "    - Add the final Dropout Layer that indicates the class probabilities\n",
        "4.  Train this CNN on the `MNIST` dataset your prepared in Step 2\n",
        "    - Train for at least 10 Epochs using a batch size of 32\n",
        "5.  Plot graphs showing how your training and validation loss and accuracy changed with respect to the Epochs completed. \n",
        "6.  Save your model, you will be using it in the second milestone.\n",
        "7.  Test your model on some random samples from the test dataset.\n",
        "\n",
        "__Deliverable__:\n",
        "\n",
        "The deliverable is a Jupyter Notebook documenting your workflow as you take the `MNIST` dataset, view samples, convert it into the right shape/format as required by your deep learning library. You are required to train the model using the specifications provided. You should save your model as you'll need it for further analysis in the second milestone."
      ]
    },
    {
      "cell_type": "markdown",
      "metadata": {
        "id": "TOzgBzQez4LU",
        "colab_type": "text"
      },
      "source": [
        "#Resources\n",
        "Deep Learning with Python, Second Edition \n",
        "- 1.2 [Chapter 5 Deep learning for computer vision](https://livebook.manning.com/book/deep-learning-with-python/chapter-5/1\n",
        ")\n",
        "    - 5.1 Introduction to covnets\n",
        "        - 5.1.1 The convolution operation\n",
        "        - 5.1.2 The max-pooling operation\n",
        "\n"
      ]
    },
    {
      "cell_type": "markdown",
      "metadata": {
        "id": "rf8W1evGYQi6",
        "colab_type": "text"
      },
      "source": [
        "### Load our Handwritten Digit Dataset (MNIST)"
      ]
    },
    {
      "cell_type": "code",
      "metadata": {
        "id": "JPCKPHUQYHjl",
        "colab_type": "code",
        "colab": {
          "base_uri": "https://localhost:8080/",
          "height": 52
        },
        "outputId": "3a93200d-8e49-4a13-9490-085425747e65"
      },
      "source": [
        "from tensorflow.keras.datasets import mnist\n",
        "\n",
        "# Loads the MNIST dataset\n",
        "(x_train, y_train), (x_test, y_test)  = mnist.load_data()"
      ],
      "execution_count": null,
      "outputs": [
        {
          "output_type": "stream",
          "text": [
            "Downloading data from https://storage.googleapis.com/tensorflow/tf-keras-datasets/mnist.npz\n",
            "11493376/11490434 [==============================] - 0s 0us/step\n"
          ],
          "name": "stdout"
        }
      ]
    },
    {
      "cell_type": "code",
      "metadata": {
        "id": "Cc7gP_ZBYW9m",
        "colab_type": "code",
        "colab": {
          "base_uri": "https://localhost:8080/",
          "height": 225
        },
        "outputId": "af1f4073-4edc-4275-e11a-17c0909bfffd"
      },
      "source": [
        "# Display the number of samples in x_train, x_test, y_train, y_test\n",
        "print(\"Initial shape or dimensions of x_train\", str(x_train.shape) + \"\\n\")\n",
        "\n",
        "print (\"Number of samples in our training data: \" + str(len(x_train)))\n",
        "print (\"Number of labels in our training data: \" + str(len(y_train)))\n",
        "print (\"Number of samples in our test data: \" + str(len(x_test)))\n",
        "print (\"Number of labels in our test data: \" + str(len(y_test)) + \"\\n\")\n",
        "\n",
        "print (\"Dimensions of x_train:\" + str(x_train[0].shape))\n",
        "print (\"Labels in x_train:\" + str(y_train.shape) + \"\\n\")\n",
        "\n",
        "print (\"Dimensions of x_test:\" + str(x_test[0].shape))\n",
        "print (\"Labels in y_test:\" + str(y_test.shape))"
      ],
      "execution_count": null,
      "outputs": [
        {
          "output_type": "stream",
          "text": [
            "Initial shape or dimensions of x_train (60000, 28, 28)\n",
            "\n",
            "Number of samples in our training data: 60000\n",
            "Number of labels in our training data: 60000\n",
            "Number of samples in our test data: 10000\n",
            "Number of labels in our test data: 10000\n",
            "\n",
            "Dimensions of x_train:(28, 28)\n",
            "Labels in x_train:(60000,)\n",
            "\n",
            "Dimensions of x_test:(28, 28)\n",
            "Labels in y_test:(10000,)\n"
          ],
          "name": "stdout"
        }
      ]
    },
    {
      "cell_type": "markdown",
      "metadata": {
        "id": "wmRVz_88Y-0O",
        "colab_type": "text"
      },
      "source": [
        "### Let's take a look at some of images in this dataset\n"
      ]
    },
    {
      "cell_type": "code",
      "metadata": {
        "id": "wuK2GCKuZIzV",
        "colab_type": "code",
        "colab": {
          "base_uri": "https://localhost:8080/",
          "height": 191
        },
        "outputId": "3b6bdba3-2a85-460f-efff-2929a557f04e"
      },
      "source": [
        "# importing matplotlib\n",
        "# You may need to run this twice as matplotlib doesn't generate the plot in the same cell where it was imported\n",
        "import matplotlib.pyplot as plt\n",
        "import numpy as np\n",
        "\n",
        "# Plots 6 images, note subplot's arugments are nrows,ncols,index\n",
        "# we set the color map to grey since our image dataset is grayscale\n",
        "plt.subplot(331)\n",
        "random_num = np.random.randint(0,len(x_train))\n",
        "plt.imshow(x_train[random_num], cmap=plt.get_cmap('gray'))\n",
        "\n",
        "plt.subplot(332)\n",
        "random_num = np.random.randint(0,len(x_train))\n",
        "plt.imshow(x_train[random_num], cmap=plt.get_cmap('gray'))\n",
        "\n",
        "plt.subplot(333)\n",
        "random_num = np.random.randint(0,len(x_train))\n",
        "plt.imshow(x_train[random_num], cmap=plt.get_cmap('gray'))\n",
        "\n",
        "plt.subplot(334)\n",
        "random_num = np.random.randint(0,len(x_train))\n",
        "plt.imshow(x_train[random_num], cmap=plt.get_cmap('gray'))\n",
        "\n",
        "plt.subplot(335)\n",
        "random_num = np.random.randint(0,len(x_train))\n",
        "plt.imshow(x_train[random_num], cmap=plt.get_cmap('gray'))\n",
        "\n",
        "plt.subplot(336)\n",
        "random_num = np.random.randint(0,len(x_train))\n",
        "plt.imshow(x_train[random_num], cmap=plt.get_cmap('gray'))\n",
        "\n",
        "# Display out plots\n",
        "plt.show()"
      ],
      "execution_count": null,
      "outputs": [
        {
          "output_type": "display_data",
          "data": {
            "image/png": "[encoded data removed]",
            "text/plain": [
              "<Figure size 432x288 with 6 Axes>"
            ]
          },
          "metadata": {
            "tags": [],
            "needs_background": "light"
          }
        }
      ]
    },
    {
      "cell_type": "markdown",
      "metadata": {
        "id": "Ww2LHzS4ZYup",
        "colab_type": "text"
      },
      "source": [
        "### Preparing our dataset for Keras\n",
        "\n",
        "- Keras requires our input data as a 4-Dimensional shape of (60000,28,28,1). When we initially loaded our data, x_train was (60000,28,28).\n",
        "- We needs our labels to be one-hot-encoded"
      ]
    },
    {
      "cell_type": "code",
      "metadata": {
        "id": "xGzKLgziZNST",
        "colab_type": "code",
        "colab": {
          "base_uri": "https://localhost:8080/",
          "height": 69
        },
        "outputId": "5bd1f483-4ff5-46b8-80c7-01549306eb1b"
      },
      "source": [
        "# Lets store the number of rows and columns\n",
        "img_rows = x_train[0].shape[0]\n",
        "img_cols = x_train[0].shape[1]\n",
        "\n",
        "# Getting our data in the right 'shape' needed for Keras\n",
        "# We need to add a 4th dimenion to our data thereby changing our\n",
        "# Our original image shape of (60000,28,28) to (60000,28,28,1)\n",
        "x_train = x_train.reshape(x_train.shape[0], img_rows, img_cols, 1)\n",
        "x_test = x_test.reshape(x_test.shape[0], img_rows, img_cols, 1)\n",
        "\n",
        "# store the shape of a single image for future use as a variable storing our input shape\n",
        "input_shape = (img_rows, img_cols, 1)\n",
        "\n",
        "# change our image type to float32 data type\n",
        "x_train = x_train.astype('float32') #uint8 originally\n",
        "x_test = x_test.astype('float32')\n",
        "\n",
        "# Normalize our data by changing the range from (0 to 255) to (0 to 1)\n",
        "x_train /= 255.0\n",
        "x_test /= 255.0\n",
        "\n",
        "print('x_train shape:', x_train.shape)\n",
        "print(x_train.shape[0], 'train samples')\n",
        "print(x_test.shape[0], 'test samples')"
      ],
      "execution_count": null,
      "outputs": [
        {
          "output_type": "stream",
          "text": [
            "x_train shape: (60000, 28, 28, 1)\n",
            "60000 train samples\n",
            "10000 test samples\n"
          ],
          "name": "stdout"
        }
      ]
    },
    {
      "cell_type": "markdown",
      "metadata": {
        "id": "HbccRjDKZ_ft",
        "colab_type": "text"
      },
      "source": [
        "#### Performing one-hot-econding of our data labels"
      ]
    },
    {
      "cell_type": "code",
      "metadata": {
        "id": "kv-ekVjGZ4Lk",
        "colab_type": "code",
        "colab": {
          "base_uri": "https://localhost:8080/",
          "height": 35
        },
        "outputId": "086a5f21-50a8-4971-96ca-7698de376a43"
      },
      "source": [
        "from tensorflow.keras.utils import to_categorical\n",
        "\n",
        "# Now we one hot encode outputs\n",
        "y_train = to_categorical(y_train)\n",
        "y_test = to_categorical(y_test)\n",
        "\n",
        "# Let's count the number columns in our hot encoded matrix \n",
        "print (\"Number of Classes: \" + str(y_test.shape[1]))\n",
        "\n",
        "num_classes = y_test.shape[1]"
      ],
      "execution_count": null,
      "outputs": [
        {
          "output_type": "stream",
          "text": [
            "Number of Classes: 10\n"
          ],
          "name": "stdout"
        }
      ]
    },
    {
      "cell_type": "markdown",
      "metadata": {
        "id": "0nPdAzzsaTlq",
        "colab_type": "text"
      },
      "source": [
        "# Creating our Convolution Neural Network Model\n",
        "\n",
        "![alt text](https://raw.githubusercontent.com/rajeevratan84/MasterOpenCV/master/CNN2.JPG \"Our Convolutional Neural Network\")\n"
      ]
    },
    {
      "cell_type": "code",
      "metadata": {
        "id": "b9SWncmYaG_c",
        "colab_type": "code",
        "colab": {
          "base_uri": "https://localhost:8080/",
          "height": 451
        },
        "outputId": "d490c7e0-0ed4-4945-c64d-f614e0ab4041"
      },
      "source": [
        "from tensorflow.keras.models import Sequential\n",
        "from tensorflow.keras.layers import Dense, Dropout, Flatten\n",
        "from tensorflow.keras.layers import Conv2D, MaxPooling2D\n",
        "from tensorflow.keras import backend as K\n",
        "from tensorflow.keras.optimizers import SGD \n",
        "\n",
        "# create model\n",
        "model = Sequential()\n",
        "\n",
        "# Our First Convolution Layer, Filter size 32 which reduces our layer size to 26 x 26 x 32\n",
        "# We use ReLU activation and specify our input_shape which is 28 x 28 x 1\n",
        "model.add(Conv2D(32, kernel_size=(3, 3), activation='relu', input_shape=input_shape))\n",
        "\n",
        "# Our Second Convolution Layer, Filter size 64 which reduces our layer size to 24 x 24 x 64\n",
        "model.add(Conv2D(64, (3, 3), activation='relu'))\n",
        "\n",
        "# We use MaxPooling with a kernel size of 2 x 2, this reduces our size to 12 x 12 x 64\n",
        "model.add(MaxPooling2D(pool_size=(2, 2)))\n",
        "\n",
        "# We use a dropout P setting of 0.25 to reduce overfitting\n",
        "model.add(Dropout(0.25))\n",
        "\n",
        "# We then Flatten our tensor object before input into our Dense Layer\n",
        "# A flatten operation on a tensor reshapes the tensor to have the shape that is \n",
        "# equal to the number of elements contained in tensor\n",
        "# In our CNN it goes from 12 * 12 * 64 to 9216 * 1\n",
        "model.add(Flatten())\n",
        "\n",
        "# We connect this layer to a Fully Connected/Dense layer of size 1 * 128\n",
        "model.add(Dense(128, activation='relu'))\n",
        "\n",
        "# We use another Dropout layer\n",
        "model.add(Dropout(0.5))\n",
        "\n",
        "# We create our final Fully Connected/Dense layer with an output for each class (10)\n",
        "model.add(Dense(num_classes, activation='softmax'))\n",
        "\n",
        "# We compile our model, this creates an object that stores the model we just created\n",
        "# We set our Optimizer to use Stochastic Gradient Descent (learning rate of 0.01)\n",
        "# We set our loss function to be categorical_crossentropy as it's suitable for multiclass problems\n",
        "# Finally, the metrics (What we judge our performance on) to be accuracy\n",
        "model.compile(loss = 'categorical_crossentropy',\n",
        "              optimizer = SGD(0.01),\n",
        "              metrics = ['accuracy'])\n",
        "\n",
        "# We can use the summary function to display our model layers and parameters\n",
        "print(model.summary())"
      ],
      "execution_count": null,
      "outputs": [
        {
          "output_type": "stream",
          "text": [
            "Model: \"sequential_1\"\n",
            "_________________________________________________________________\n",
            "Layer (type)                 Output Shape              Param #   \n",
            "=================================================================\n",
            "conv2d_2 (Conv2D)            (None, 26, 26, 32)        320       \n",
            "_________________________________________________________________\n",
            "conv2d_3 (Conv2D)            (None, 24, 24, 64)        18496     \n",
            "_________________________________________________________________\n",
            "max_pooling2d_1 (MaxPooling2 (None, 12, 12, 64)        0         \n",
            "_________________________________________________________________\n",
            "dropout_2 (Dropout)          (None, 12, 12, 64)        0         \n",
            "_________________________________________________________________\n",
            "flatten_1 (Flatten)          (None, 9216)              0         \n",
            "_________________________________________________________________\n",
            "dense_2 (Dense)              (None, 128)               1179776   \n",
            "_________________________________________________________________\n",
            "dropout_3 (Dropout)          (None, 128)               0         \n",
            "_________________________________________________________________\n",
            "dense_3 (Dense)              (None, 10)                1290      \n",
            "=================================================================\n",
            "Total params: 1,199,882\n",
            "Trainable params: 1,199,882\n",
            "Non-trainable params: 0\n",
            "_________________________________________________________________\n",
            "None\n"
          ],
          "name": "stdout"
        }
      ]
    },
    {
      "cell_type": "markdown",
      "metadata": {
        "id": "MBBYhsHhaiGG",
        "colab_type": "text"
      },
      "source": [
        "# Training our CNN"
      ]
    },
    {
      "cell_type": "code",
      "metadata": {
        "id": "3wBbT1Ibac3Z",
        "colab_type": "code",
        "colab": {
          "base_uri": "https://localhost:8080/",
          "height": 399
        },
        "outputId": "f1618493-96f1-4cca-f6a9-ef36dfc4a3c2"
      },
      "source": [
        "batch_size = 32\n",
        "epochs = 10\n",
        "\n",
        "# Store our results here so we can plot later\n",
        "# In our fit function we specify our datsets (x_train & y_train), \n",
        "# the batch size (typically 16 to 128 depending on your RAM), the number of \n",
        "# epochs (usually 10 to 100) and our validation datasets (x_test & y_test)\n",
        "# verbose = 1, sets our training to output performance metrics every epoch\n",
        "history = model.fit(x_train,\n",
        "                    y_train,\n",
        "                    batch_size = batch_size,\n",
        "                    epochs = epochs,\n",
        "                    verbose = 1,\n",
        "                    validation_data = (x_test, y_test))\n",
        "\n",
        "# We obtain our accuracy score using the evalute function\n",
        "score = model.evaluate(x_test, y_test, verbose=0)\n",
        "print('Test loss:', score[0])\n",
        "print('Test accuracy:', score[1])"
      ],
      "execution_count": null,
      "outputs": [
        {
          "output_type": "stream",
          "text": [
            "Epoch 1/10\n",
            "1875/1875 [==============================] - 8s 4ms/step - loss: 0.5878 - accuracy: 0.8152 - val_loss: 0.2076 - val_accuracy: 0.9393\n",
            "Epoch 2/10\n",
            "1875/1875 [==============================] - 8s 4ms/step - loss: 0.3064 - accuracy: 0.9065 - val_loss: 0.1480 - val_accuracy: 0.9557\n",
            "Epoch 3/10\n",
            "1875/1875 [==============================] - 8s 4ms/step - loss: 0.2355 - accuracy: 0.9288 - val_loss: 0.1113 - val_accuracy: 0.9667\n",
            "Epoch 4/10\n",
            "1875/1875 [==============================] - 8s 4ms/step - loss: 0.1848 - accuracy: 0.9450 - val_loss: 0.0877 - val_accuracy: 0.9731\n",
            "Epoch 5/10\n",
            "1875/1875 [==============================] - 8s 4ms/step - loss: 0.1508 - accuracy: 0.9553 - val_loss: 0.0689 - val_accuracy: 0.9778\n",
            "Epoch 6/10\n",
            "1875/1875 [==============================] - 8s 4ms/step - loss: 0.1292 - accuracy: 0.9617 - val_loss: 0.0652 - val_accuracy: 0.9787\n",
            "Epoch 7/10\n",
            "1875/1875 [==============================] - 8s 4ms/step - loss: 0.1139 - accuracy: 0.9664 - val_loss: 0.0553 - val_accuracy: 0.9828\n",
            "Epoch 8/10\n",
            "1875/1875 [==============================] - 8s 4ms/step - loss: 0.1019 - accuracy: 0.9692 - val_loss: 0.0541 - val_accuracy: 0.9828\n",
            "Epoch 9/10\n",
            "1875/1875 [==============================] - 8s 4ms/step - loss: 0.0960 - accuracy: 0.9708 - val_loss: 0.0486 - val_accuracy: 0.9850\n",
            "Epoch 10/10\n",
            "1875/1875 [==============================] - 8s 4ms/step - loss: 0.0887 - accuracy: 0.9737 - val_loss: 0.0460 - val_accuracy: 0.9843\n",
            "Test loss: 0.04598711058497429\n",
            "Test accuracy: 0.9843000173568726\n"
          ],
          "name": "stdout"
        }
      ]
    },
    {
      "cell_type": "markdown",
      "metadata": {
        "id": "OqkB5WX1b4Qm",
        "colab_type": "text"
      },
      "source": [
        "## Plotting our training progress \n",
        "Plot our Loss vs Epochs"
      ]
    },
    {
      "cell_type": "code",
      "metadata": {
        "id": "BLehBruxbWL_",
        "colab_type": "code",
        "colab": {
          "base_uri": "https://localhost:8080/",
          "height": 279
        },
        "outputId": "5178fa0d-b1ae-414d-9b25-8081554f395b"
      },
      "source": [
        "# Plotting our loss charts\n",
        "import matplotlib.pyplot as plt\n",
        "\n",
        "# Use the History object we created to get our saved performance results\n",
        "history_dict = history.history\n",
        "\n",
        "# Extract the loss and validation losses\n",
        "loss_values = history_dict['loss']\n",
        "val_loss_values = history_dict['val_loss']\n",
        "\n",
        "# Get the number of epochs and create an array up to that number using range()\n",
        "epochs = range(1, len(loss_values) + 1)\n",
        "\n",
        "# Plot line charts for both Validation and Training Loss\n",
        "line1 = plt.plot(epochs, val_loss_values, label='Validation/Test Loss')\n",
        "line2 = plt.plot(epochs, loss_values, label='Training Loss')\n",
        "plt.setp(line1, linewidth=2.0, marker = '+', markersize=10.0)\n",
        "plt.setp(line2, linewidth=2.0, marker = '4', markersize=10.0)\n",
        "plt.xlabel('Epochs') \n",
        "plt.ylabel('Loss')\n",
        "plt.grid(True)\n",
        "plt.legend()\n",
        "plt.show()"
      ],
      "execution_count": null,
      "outputs": [
        {
          "output_type": "display_data",
          "data": {
            "image/png": "[encoded data removed]",
            "text/plain": [
              "<Figure size 432x288 with 1 Axes>"
            ]
          },
          "metadata": {
            "tags": [],
            "needs_background": "light"
          }
        }
      ]
    },
    {
      "cell_type": "code",
      "metadata": {
        "id": "hYW1_JhibuCp",
        "colab_type": "code",
        "colab": {
          "base_uri": "https://localhost:8080/",
          "height": 279
        },
        "outputId": "f6cf44d6-ff46-408a-93be-cebb2f118045"
      },
      "source": [
        "# Plotting our accuracy charts\n",
        "import matplotlib.pyplot as plt\n",
        "\n",
        "history_dict = history.history\n",
        "\n",
        "acc_values = history_dict['accuracy']\n",
        "val_acc_values = history_dict['val_accuracy']\n",
        "epochs = range(1, len(loss_values) + 1)\n",
        "\n",
        "line1 = plt.plot(epochs, val_acc_values, label='Validation/Test Accuracy')\n",
        "line2 = plt.plot(epochs, acc_values, label='Training Accuracy')\n",
        "plt.setp(line1, linewidth=2.0, marker = '+', markersize=10.0)\n",
        "plt.setp(line2, linewidth=2.0, marker = '4', markersize=10.0)\n",
        "plt.xlabel('Epochs') \n",
        "plt.ylabel('Accuracy')\n",
        "plt.grid(True)\n",
        "plt.legend()\n",
        "plt.show()"
      ],
      "execution_count": null,
      "outputs": [
        {
          "output_type": "display_data",
          "data": {
            "image/png": "[encoded data removed]",
            "text/plain": [
              "<Figure size 432x288 with 1 Axes>"
            ]
          },
          "metadata": {
            "tags": [],
            "needs_background": "light"
          }
        }
      ]
    },
    {
      "cell_type": "markdown",
      "metadata": {
        "id": "ebieT6LnuoH9",
        "colab_type": "text"
      },
      "source": [
        "## Saving and loading your model"
      ]
    },
    {
      "cell_type": "code",
      "metadata": {
        "id": "90K_VEWRbw1g",
        "colab_type": "code",
        "colab": {
          "base_uri": "https://localhost:8080/",
          "height": 35
        },
        "outputId": "47d542fe-3abd-4378-d009-d793181cc249"
      },
      "source": [
        "model.save(\"mnist_simple_cnn_10_Epochs.h5\")\n",
        "\n",
        "print(\"Model Saved\")"
      ],
      "execution_count": null,
      "outputs": [
        {
          "output_type": "stream",
          "text": [
            "Model Saved\n"
          ],
          "name": "stdout"
        }
      ]
    },
    {
      "cell_type": "code",
      "metadata": {
        "id": "6GSpUPg_uvkt",
        "colab_type": "code",
        "colab": {}
      },
      "source": [
        "from tensorflow.keras.models import load_model\n",
        "\n",
        "classifier = load_model('mnist_simple_cnn_10_Epochs.h5')"
      ],
      "execution_count": null,
      "outputs": []
    },
    {
      "cell_type": "markdown",
      "metadata": {
        "id": "NXClhjBNvjO3",
        "colab_type": "text"
      },
      "source": [
        "# Testing out Model on some random Test Data"
      ]
    },
    {
      "cell_type": "code",
      "metadata": {
        "id": "3TFuBHwbvemo",
        "colab_type": "code",
        "colab": {
          "base_uri": "https://localhost:8080/",
          "height": 241
        },
        "outputId": "db4723a7-12fc-4eaf-f9db-2a4a47b56eb0"
      },
      "source": [
        "import numpy as np\n",
        "\n",
        "figure = plt.figure(figsize=(20,20))\n",
        "\n",
        "for i in range(5):\n",
        "    figure.add_subplot(1,5,i+1)\n",
        "    random_idx = np.random.randint(0,len(x_test))\n",
        "    plt.imshow(x_test[random_idx,:,:,0],cmap=\"gray\")\n",
        "    plt.axis(\"off\")\n",
        "    print(np.squeeze(np.argmax(model.predict(x_test[random_idx].reshape(1,28,28,1)),axis=1),axis=0),end=\"\\t\")"
      ],
      "execution_count": null,
      "outputs": [
        {
          "output_type": "stream",
          "text": [
            "0\t3\t2\t2\t4\t"
          ],
          "name": "stdout"
        },
        {
          "output_type": "display_data",
          "data": {
            "image/png": "[encoded data removed]",
            "text/plain": [
              "<Figure size 1440x1440 with 5 Axes>"
            ]
          },
          "metadata": {
            "tags": [],
            "needs_background": "light"
          }
        }
      ]
    },
    {
      "cell_type": "markdown",
      "metadata": {
        "id": "Nx_a3d7IwkTi",
        "colab_type": "text"
      },
      "source": [
        "# Summary\n",
        "\n",
        "In this notebook we:\n",
        "\n",
        "* Loaded the MNIST Dataset\n",
        "* Trained a Convolutional Neural Network on the MNIST dataset\n",
        "* Tested our model on some of test data\n",
        "\n",
        "The end deliverable from this section is a trained CNN using the architecture described for at least 10 epochs. The expected accuracy of your model should be at least 98%. In the next section, we will use the model you saved and try to understand what the model actually 'learnt'."
      ]
    },
    {
      "cell_type": "code",
      "metadata": {
        "id": "WsJcl9oOHY14",
        "colab_type": "code",
        "colab": {}
      },
      "source": [
        ""
      ],
      "execution_count": null,
      "outputs": []
    }
  ]
}